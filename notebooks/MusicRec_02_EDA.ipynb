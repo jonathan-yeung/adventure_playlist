{
 "cells": [
  {
   "cell_type": "markdown",
   "id": "de4da0e7",
   "metadata": {},
   "source": [
    "# 'Adventure' Playlist - Music Recommendations For Variety And The Long Tail"
   ]
  },
  {
   "cell_type": "markdown",
   "id": "a3d96c14",
   "metadata": {},
   "source": [
    "# Notebook 02 - EDA\n",
    "\n",
    "&nbsp;\n",
    "\n",
    "**By: [Jonathan Yeung](https://github.com/jonathan-yeung)**\n",
    "\n",
    "In this notebook, I intend to look closer into the user engagement and the track exposure on the music streaming platforms using the dataset *df_user_track*. By using the `playcount` variable available in the dataset, we could have an outlook of how much the users interact with the platform and how much exposure to users the tracks in the long-tail market have."
   ]
  },
  {
   "cell_type": "markdown",
   "id": "6b88aecb",
   "metadata": {},
   "source": [
    "---"
   ]
  },
  {
   "cell_type": "markdown",
   "id": "634dd85d",
   "metadata": {},
   "source": [
    "# Table of Contents\n",
    "\n",
    "1. [**Imports**](#Imports)<br>\n",
    "\n",
    "2. [**Data**](#Data)<br>\n",
    "\n",
    "3. [**Total counts**](#Total-counts)<br>\n",
    "\n",
    "4. [**Analyzing the user activities**](#user_act)<br>\n",
    "  4.1 [Number of tracks played by users](#NumTrackUser)<br>\n",
    "  4.2 [Playcounts by users](#CountUser)<br>\n",
    "  4.3 [Average playcounts per track by users](#AvgCountUser)<br>\n",
    "  \n",
    "5. [**Analyzing the track exposure**](#track_exp)<br>\n",
    "  5.1 [Number of users who have listened for tracks](#NumUserTrack)<br>\n",
    "  5.2 [Playcounts for tracks](#CountTrack)<br>\n",
    "  5.3 [Zooming in to the top 10%](#top10)<br>\n",
    "  5.4 [Average playcounts per user for tracks](#AvgCountTrack)<br>\n",
    "  \n",
    "6. [**Notebook Summary**](#Notebook-Summary)<br>"
   ]
  },
  {
   "cell_type": "markdown",
   "id": "1ba6f015",
   "metadata": {},
   "source": [
    "---"
   ]
  },
  {
   "cell_type": "markdown",
   "id": "cde5ae93",
   "metadata": {},
   "source": [
    "# Imports"
   ]
  },
  {
   "cell_type": "code",
   "execution_count": 2,
   "id": "dc06dc28",
   "metadata": {},
   "outputs": [],
   "source": [
    "# misc\n",
    "import os\n",
    "\n",
    "# data manipulation\n",
    "import numpy as np\n",
    "import pandas as pd\n",
    "\n",
    "# data visualization\n",
    "import matplotlib.pyplot as plt\n",
    "import seaborn as sns\n",
    "%matplotlib inline"
   ]
  },
  {
   "cell_type": "markdown",
   "id": "e3c988d4",
   "metadata": {},
   "source": [
    "# Data"
   ]
  },
  {
   "cell_type": "code",
   "execution_count": 3,
   "id": "13b155c0",
   "metadata": {},
   "outputs": [],
   "source": [
    "file_path = '/Users/jonwfyeung/Downloads/adventure_playlist/'"
   ]
  },
  {
   "cell_type": "code",
   "execution_count": 11,
   "id": "cd351ce4",
   "metadata": {},
   "outputs": [
    {
     "name": "stdout",
     "output_type": "stream",
     "text": [
      "True\n",
      "True\n",
      "True\n"
     ]
    }
   ],
   "source": [
    "check_file_user = os.path.isfile(file_path + 'data/User_Listening_History.csv')\n",
    "check_file_user_track = os.path.isfile(file_path + 'data/df_user_track.csv')\n",
    "check_file_track_cleaned = os.path.isfile(file_path + 'data/df_track_cleaned.csv')\n",
    "\n",
    "print(check_file_user)\n",
    "print(check_file_user_track)\n",
    "print(check_file_track_cleaned)"
   ]
  },
  {
   "cell_type": "code",
   "execution_count": 8,
   "id": "2b6de0a3",
   "metadata": {},
   "outputs": [
    {
     "data": {
      "text/html": [
       "<div>\n",
       "<style scoped>\n",
       "    .dataframe tbody tr th:only-of-type {\n",
       "        vertical-align: middle;\n",
       "    }\n",
       "\n",
       "    .dataframe tbody tr th {\n",
       "        vertical-align: top;\n",
       "    }\n",
       "\n",
       "    .dataframe thead th {\n",
       "        text-align: right;\n",
       "    }\n",
       "</style>\n",
       "<table border=\"1\" class=\"dataframe\">\n",
       "  <thead>\n",
       "    <tr style=\"text-align: right;\">\n",
       "      <th></th>\n",
       "      <th>track_id</th>\n",
       "      <th>user_id</th>\n",
       "      <th>playcount</th>\n",
       "    </tr>\n",
       "  </thead>\n",
       "  <tbody>\n",
       "    <tr>\n",
       "      <th>0</th>\n",
       "      <td>TRIRLYL128F42539D1</td>\n",
       "      <td>b80344d063b5ccb3212f76538f3d9e43d87dca9e</td>\n",
       "      <td>1</td>\n",
       "    </tr>\n",
       "    <tr>\n",
       "      <th>1</th>\n",
       "      <td>TRFUPBA128F934F7E1</td>\n",
       "      <td>b80344d063b5ccb3212f76538f3d9e43d87dca9e</td>\n",
       "      <td>1</td>\n",
       "    </tr>\n",
       "    <tr>\n",
       "      <th>2</th>\n",
       "      <td>TRLQPQJ128F42AA94F</td>\n",
       "      <td>b80344d063b5ccb3212f76538f3d9e43d87dca9e</td>\n",
       "      <td>1</td>\n",
       "    </tr>\n",
       "    <tr>\n",
       "      <th>3</th>\n",
       "      <td>TRTUCUY128F92E1D24</td>\n",
       "      <td>b80344d063b5ccb3212f76538f3d9e43d87dca9e</td>\n",
       "      <td>1</td>\n",
       "    </tr>\n",
       "    <tr>\n",
       "      <th>4</th>\n",
       "      <td>TRHDDQG12903CB53EE</td>\n",
       "      <td>b80344d063b5ccb3212f76538f3d9e43d87dca9e</td>\n",
       "      <td>1</td>\n",
       "    </tr>\n",
       "  </tbody>\n",
       "</table>\n",
       "</div>"
      ],
      "text/plain": [
       "             track_id                                   user_id  playcount\n",
       "0  TRIRLYL128F42539D1  b80344d063b5ccb3212f76538f3d9e43d87dca9e          1\n",
       "1  TRFUPBA128F934F7E1  b80344d063b5ccb3212f76538f3d9e43d87dca9e          1\n",
       "2  TRLQPQJ128F42AA94F  b80344d063b5ccb3212f76538f3d9e43d87dca9e          1\n",
       "3  TRTUCUY128F92E1D24  b80344d063b5ccb3212f76538f3d9e43d87dca9e          1\n",
       "4  TRHDDQG12903CB53EE  b80344d063b5ccb3212f76538f3d9e43d87dca9e          1"
      ]
     },
     "execution_count": 8,
     "metadata": {},
     "output_type": "execute_result"
    }
   ],
   "source": [
    "df_user = pd.read_csv(file_path + 'data/User_Listening_History.csv')\n",
    "df_user.head()"
   ]
  },
  {
   "cell_type": "code",
   "execution_count": 9,
   "id": "b93d8d77",
   "metadata": {},
   "outputs": [
    {
     "data": {
      "text/html": [
       "<div>\n",
       "<style scoped>\n",
       "    .dataframe tbody tr th:only-of-type {\n",
       "        vertical-align: middle;\n",
       "    }\n",
       "\n",
       "    .dataframe tbody tr th {\n",
       "        vertical-align: top;\n",
       "    }\n",
       "\n",
       "    .dataframe thead th {\n",
       "        text-align: right;\n",
       "    }\n",
       "</style>\n",
       "<table border=\"1\" class=\"dataframe\">\n",
       "  <thead>\n",
       "    <tr style=\"text-align: right;\">\n",
       "      <th></th>\n",
       "      <th>0</th>\n",
       "      <th>1</th>\n",
       "    </tr>\n",
       "  </thead>\n",
       "  <tbody>\n",
       "    <tr>\n",
       "      <th>track_id</th>\n",
       "      <td>TRIRLYL128F42539D1</td>\n",
       "      <td>TRIRLYL128F42539D1</td>\n",
       "    </tr>\n",
       "    <tr>\n",
       "      <th>user_id</th>\n",
       "      <td>b80344d063b5ccb3212f76538f3d9e43d87dca9e</td>\n",
       "      <td>fd13b9d49c54e00ff413fe3c095ba581c7fc611e</td>\n",
       "    </tr>\n",
       "    <tr>\n",
       "      <th>playcount</th>\n",
       "      <td>1</td>\n",
       "      <td>8</td>\n",
       "    </tr>\n",
       "    <tr>\n",
       "      <th>name</th>\n",
       "      <td>Nothing From Nothing</td>\n",
       "      <td>Nothing From Nothing</td>\n",
       "    </tr>\n",
       "    <tr>\n",
       "      <th>artist</th>\n",
       "      <td>Billy Preston</td>\n",
       "      <td>Billy Preston</td>\n",
       "    </tr>\n",
       "    <tr>\n",
       "      <th>spotify_preview_url</th>\n",
       "      <td>https://p.scdn.co/mp3-preview/340c79f3f19b448e...</td>\n",
       "      <td>https://p.scdn.co/mp3-preview/340c79f3f19b448e...</td>\n",
       "    </tr>\n",
       "    <tr>\n",
       "      <th>spotify_id</th>\n",
       "      <td>0d42LKqrWFVu05jAv9mwwE</td>\n",
       "      <td>0d42LKqrWFVu05jAv9mwwE</td>\n",
       "    </tr>\n",
       "    <tr>\n",
       "      <th>tags</th>\n",
       "      <td>soul, funk, piano, 70s, oldies</td>\n",
       "      <td>soul, funk, piano, 70s, oldies</td>\n",
       "    </tr>\n",
       "    <tr>\n",
       "      <th>year</th>\n",
       "      <td>2010</td>\n",
       "      <td>2010</td>\n",
       "    </tr>\n",
       "    <tr>\n",
       "      <th>duration_ms</th>\n",
       "      <td>155453</td>\n",
       "      <td>155453</td>\n",
       "    </tr>\n",
       "    <tr>\n",
       "      <th>danceability</th>\n",
       "      <td>0.759</td>\n",
       "      <td>0.759</td>\n",
       "    </tr>\n",
       "    <tr>\n",
       "      <th>energy</th>\n",
       "      <td>0.834</td>\n",
       "      <td>0.834</td>\n",
       "    </tr>\n",
       "    <tr>\n",
       "      <th>key</th>\n",
       "      <td>9</td>\n",
       "      <td>9</td>\n",
       "    </tr>\n",
       "    <tr>\n",
       "      <th>loudness</th>\n",
       "      <td>-5.206</td>\n",
       "      <td>-5.206</td>\n",
       "    </tr>\n",
       "    <tr>\n",
       "      <th>mode</th>\n",
       "      <td>0</td>\n",
       "      <td>0</td>\n",
       "    </tr>\n",
       "    <tr>\n",
       "      <th>speechiness</th>\n",
       "      <td>0.0276</td>\n",
       "      <td>0.0276</td>\n",
       "    </tr>\n",
       "    <tr>\n",
       "      <th>acousticness</th>\n",
       "      <td>0.585</td>\n",
       "      <td>0.585</td>\n",
       "    </tr>\n",
       "    <tr>\n",
       "      <th>instrumentalness</th>\n",
       "      <td>0.055</td>\n",
       "      <td>0.055</td>\n",
       "    </tr>\n",
       "    <tr>\n",
       "      <th>liveness</th>\n",
       "      <td>0.331</td>\n",
       "      <td>0.331</td>\n",
       "    </tr>\n",
       "    <tr>\n",
       "      <th>valence</th>\n",
       "      <td>0.939</td>\n",
       "      <td>0.939</td>\n",
       "    </tr>\n",
       "    <tr>\n",
       "      <th>tempo</th>\n",
       "      <td>102.792</td>\n",
       "      <td>102.792</td>\n",
       "    </tr>\n",
       "    <tr>\n",
       "      <th>time_signature</th>\n",
       "      <td>4</td>\n",
       "      <td>4</td>\n",
       "    </tr>\n",
       "  </tbody>\n",
       "</table>\n",
       "</div>"
      ],
      "text/plain": [
       "                                                                     0  \\\n",
       "track_id                                            TRIRLYL128F42539D1   \n",
       "user_id                       b80344d063b5ccb3212f76538f3d9e43d87dca9e   \n",
       "playcount                                                            1   \n",
       "name                                              Nothing From Nothing   \n",
       "artist                                                   Billy Preston   \n",
       "spotify_preview_url  https://p.scdn.co/mp3-preview/340c79f3f19b448e...   \n",
       "spotify_id                                      0d42LKqrWFVu05jAv9mwwE   \n",
       "tags                                    soul, funk, piano, 70s, oldies   \n",
       "year                                                              2010   \n",
       "duration_ms                                                     155453   \n",
       "danceability                                                     0.759   \n",
       "energy                                                           0.834   \n",
       "key                                                                  9   \n",
       "loudness                                                        -5.206   \n",
       "mode                                                                 0   \n",
       "speechiness                                                     0.0276   \n",
       "acousticness                                                     0.585   \n",
       "instrumentalness                                                 0.055   \n",
       "liveness                                                         0.331   \n",
       "valence                                                          0.939   \n",
       "tempo                                                          102.792   \n",
       "time_signature                                                       4   \n",
       "\n",
       "                                                                     1  \n",
       "track_id                                            TRIRLYL128F42539D1  \n",
       "user_id                       fd13b9d49c54e00ff413fe3c095ba581c7fc611e  \n",
       "playcount                                                            8  \n",
       "name                                              Nothing From Nothing  \n",
       "artist                                                   Billy Preston  \n",
       "spotify_preview_url  https://p.scdn.co/mp3-preview/340c79f3f19b448e...  \n",
       "spotify_id                                      0d42LKqrWFVu05jAv9mwwE  \n",
       "tags                                    soul, funk, piano, 70s, oldies  \n",
       "year                                                              2010  \n",
       "duration_ms                                                     155453  \n",
       "danceability                                                     0.759  \n",
       "energy                                                           0.834  \n",
       "key                                                                  9  \n",
       "loudness                                                        -5.206  \n",
       "mode                                                                 0  \n",
       "speechiness                                                     0.0276  \n",
       "acousticness                                                     0.585  \n",
       "instrumentalness                                                 0.055  \n",
       "liveness                                                         0.331  \n",
       "valence                                                          0.939  \n",
       "tempo                                                          102.792  \n",
       "time_signature                                                       4  "
      ]
     },
     "execution_count": 9,
     "metadata": {},
     "output_type": "execute_result"
    }
   ],
   "source": [
    "df_user_track = pd.read_csv(file_path + 'data/df_user_track.csv')\n",
    "df_user_track.head(2).T"
   ]
  },
  {
   "cell_type": "code",
   "execution_count": 14,
   "id": "ef688021",
   "metadata": {},
   "outputs": [
    {
     "data": {
      "text/html": [
       "<div>\n",
       "<style scoped>\n",
       "    .dataframe tbody tr th:only-of-type {\n",
       "        vertical-align: middle;\n",
       "    }\n",
       "\n",
       "    .dataframe tbody tr th {\n",
       "        vertical-align: top;\n",
       "    }\n",
       "\n",
       "    .dataframe thead th {\n",
       "        text-align: right;\n",
       "    }\n",
       "</style>\n",
       "<table border=\"1\" class=\"dataframe\">\n",
       "  <thead>\n",
       "    <tr style=\"text-align: right;\">\n",
       "      <th></th>\n",
       "      <th>0</th>\n",
       "      <th>1</th>\n",
       "    </tr>\n",
       "  </thead>\n",
       "  <tbody>\n",
       "    <tr>\n",
       "      <th>track_id</th>\n",
       "      <td>TRIOREW128F424EAF0</td>\n",
       "      <td>TRRIVDJ128F429B0E8</td>\n",
       "    </tr>\n",
       "    <tr>\n",
       "      <th>name</th>\n",
       "      <td>Mr. Brightside</td>\n",
       "      <td>Wonderwall</td>\n",
       "    </tr>\n",
       "    <tr>\n",
       "      <th>artist</th>\n",
       "      <td>The Killers</td>\n",
       "      <td>Oasis</td>\n",
       "    </tr>\n",
       "    <tr>\n",
       "      <th>spotify_preview_url</th>\n",
       "      <td>https://p.scdn.co/mp3-preview/4d26180e6961fd46...</td>\n",
       "      <td>https://p.scdn.co/mp3-preview/d012e536916c927b...</td>\n",
       "    </tr>\n",
       "    <tr>\n",
       "      <th>spotify_id</th>\n",
       "      <td>09ZQ5TmUG8TSL56n0knqrj</td>\n",
       "      <td>06UfBBDISthj1ZJAtX4xjj</td>\n",
       "    </tr>\n",
       "    <tr>\n",
       "      <th>tags</th>\n",
       "      <td>rock, alternative, indie, alternative_rock, in...</td>\n",
       "      <td>rock, alternative, indie, pop, alternative_roc...</td>\n",
       "    </tr>\n",
       "    <tr>\n",
       "      <th>year</th>\n",
       "      <td>2004</td>\n",
       "      <td>2006</td>\n",
       "    </tr>\n",
       "    <tr>\n",
       "      <th>duration_ms</th>\n",
       "      <td>222200</td>\n",
       "      <td>258613</td>\n",
       "    </tr>\n",
       "    <tr>\n",
       "      <th>danceability</th>\n",
       "      <td>0.355</td>\n",
       "      <td>0.409</td>\n",
       "    </tr>\n",
       "    <tr>\n",
       "      <th>energy</th>\n",
       "      <td>0.918</td>\n",
       "      <td>0.892</td>\n",
       "    </tr>\n",
       "    <tr>\n",
       "      <th>key</th>\n",
       "      <td>1</td>\n",
       "      <td>2</td>\n",
       "    </tr>\n",
       "    <tr>\n",
       "      <th>loudness</th>\n",
       "      <td>-4.36</td>\n",
       "      <td>-4.373</td>\n",
       "    </tr>\n",
       "    <tr>\n",
       "      <th>mode</th>\n",
       "      <td>1</td>\n",
       "      <td>1</td>\n",
       "    </tr>\n",
       "    <tr>\n",
       "      <th>speechiness</th>\n",
       "      <td>0.0746</td>\n",
       "      <td>0.0336</td>\n",
       "    </tr>\n",
       "    <tr>\n",
       "      <th>acousticness</th>\n",
       "      <td>0.00119</td>\n",
       "      <td>0.000807</td>\n",
       "    </tr>\n",
       "    <tr>\n",
       "      <th>instrumentalness</th>\n",
       "      <td>0.0</td>\n",
       "      <td>0.0</td>\n",
       "    </tr>\n",
       "    <tr>\n",
       "      <th>liveness</th>\n",
       "      <td>0.0971</td>\n",
       "      <td>0.207</td>\n",
       "    </tr>\n",
       "    <tr>\n",
       "      <th>valence</th>\n",
       "      <td>0.24</td>\n",
       "      <td>0.651</td>\n",
       "    </tr>\n",
       "    <tr>\n",
       "      <th>tempo</th>\n",
       "      <td>148.114</td>\n",
       "      <td>174.426</td>\n",
       "    </tr>\n",
       "    <tr>\n",
       "      <th>time_signature</th>\n",
       "      <td>4</td>\n",
       "      <td>4</td>\n",
       "    </tr>\n",
       "  </tbody>\n",
       "</table>\n",
       "</div>"
      ],
      "text/plain": [
       "                                                                     0  \\\n",
       "track_id                                            TRIOREW128F424EAF0   \n",
       "name                                                    Mr. Brightside   \n",
       "artist                                                     The Killers   \n",
       "spotify_preview_url  https://p.scdn.co/mp3-preview/4d26180e6961fd46...   \n",
       "spotify_id                                      09ZQ5TmUG8TSL56n0knqrj   \n",
       "tags                 rock, alternative, indie, alternative_rock, in...   \n",
       "year                                                              2004   \n",
       "duration_ms                                                     222200   \n",
       "danceability                                                     0.355   \n",
       "energy                                                           0.918   \n",
       "key                                                                  1   \n",
       "loudness                                                         -4.36   \n",
       "mode                                                                 1   \n",
       "speechiness                                                     0.0746   \n",
       "acousticness                                                   0.00119   \n",
       "instrumentalness                                                   0.0   \n",
       "liveness                                                        0.0971   \n",
       "valence                                                           0.24   \n",
       "tempo                                                          148.114   \n",
       "time_signature                                                       4   \n",
       "\n",
       "                                                                     1  \n",
       "track_id                                            TRRIVDJ128F429B0E8  \n",
       "name                                                        Wonderwall  \n",
       "artist                                                           Oasis  \n",
       "spotify_preview_url  https://p.scdn.co/mp3-preview/d012e536916c927b...  \n",
       "spotify_id                                      06UfBBDISthj1ZJAtX4xjj  \n",
       "tags                 rock, alternative, indie, pop, alternative_roc...  \n",
       "year                                                              2006  \n",
       "duration_ms                                                     258613  \n",
       "danceability                                                     0.409  \n",
       "energy                                                           0.892  \n",
       "key                                                                  2  \n",
       "loudness                                                        -4.373  \n",
       "mode                                                                 1  \n",
       "speechiness                                                     0.0336  \n",
       "acousticness                                                  0.000807  \n",
       "instrumentalness                                                   0.0  \n",
       "liveness                                                         0.207  \n",
       "valence                                                          0.651  \n",
       "tempo                                                          174.426  \n",
       "time_signature                                                       4  "
      ]
     },
     "execution_count": 14,
     "metadata": {},
     "output_type": "execute_result"
    }
   ],
   "source": [
    "df_track_cleaned = pd.read_csv(file_path + 'data/df_track_cleaned.csv')\n",
    "df_track_cleaned.head(2).T"
   ]
  },
  {
   "cell_type": "markdown",
   "id": "0dc21be3",
   "metadata": {},
   "source": [
    "---"
   ]
  },
  {
   "cell_type": "markdown",
   "id": "a83d76dd",
   "metadata": {},
   "source": [
    "# Total counts"
   ]
  },
  {
   "cell_type": "code",
   "execution_count": 17,
   "id": "9c706947",
   "metadata": {},
   "outputs": [
    {
     "name": "stdout",
     "output_type": "stream",
     "text": [
      "Total number of playcounts from all users in the dataset: 25549912\n"
     ]
    }
   ],
   "source": [
    "# Total number of playcounts from all users in the dataset\n",
    "total_playcount = df_user['playcount'].sum()\n",
    "print(f\"Total number of playcounts from all users in the dataset: {total_playcount}\")"
   ]
  },
  {
   "cell_type": "code",
   "execution_count": 18,
   "id": "7ae84bbe",
   "metadata": {},
   "outputs": [
    {
     "name": "stdout",
     "output_type": "stream",
     "text": [
      "Total number of users in the dataset: 962037\n"
     ]
    }
   ],
   "source": [
    "# Total number of users in the dataset\n",
    "total_n_users = df_user['user_id'].nunique()\n",
    "print(f\"Total number of users in the dataset: {total_n_users}\")"
   ]
  },
  {
   "cell_type": "code",
   "execution_count": 23,
   "id": "ca400e20",
   "metadata": {},
   "outputs": [
    {
     "name": "stdout",
     "output_type": "stream",
     "text": [
      "Total number of tracks in df_track_cleaned: 49548\n"
     ]
    }
   ],
   "source": [
    "# Total number of tracks in df_track_cleaned\n",
    "total_n_tracks = df_track_cleaned['track_id'].nunique()\n",
    "print(f\"Total number of tracks in df_track_cleaned: {total_n_tracks}\")"
   ]
  },
  {
   "cell_type": "markdown",
   "id": "7bfcc55f",
   "metadata": {},
   "source": [
    "---"
   ]
  },
  {
   "cell_type": "markdown",
   "id": "94567190",
   "metadata": {},
   "source": [
    "# Analyzing the user activities <a name=\"user_act\"></a>\n",
    "\n",
    "Here we will use three metrics for analysis:\n",
    "- `n_tracks_played`: number of tracks played by each user\n",
    "- `playcount`: number of total playcounts by each user\n",
    "- `avg_playcounts_per_track`: average playcounts per track for each user"
   ]
  },
  {
   "cell_type": "code",
   "execution_count": 158,
   "id": "4b506363",
   "metadata": {},
   "outputs": [
    {
     "data": {
      "text/html": [
       "<div>\n",
       "<style scoped>\n",
       "    .dataframe tbody tr th:only-of-type {\n",
       "        vertical-align: middle;\n",
       "    }\n",
       "\n",
       "    .dataframe tbody tr th {\n",
       "        vertical-align: top;\n",
       "    }\n",
       "\n",
       "    .dataframe thead th {\n",
       "        text-align: right;\n",
       "    }\n",
       "</style>\n",
       "<table border=\"1\" class=\"dataframe\">\n",
       "  <thead>\n",
       "    <tr style=\"text-align: right;\">\n",
       "      <th></th>\n",
       "      <th>user_id</th>\n",
       "      <th>n_tracks_played</th>\n",
       "    </tr>\n",
       "  </thead>\n",
       "  <tbody>\n",
       "    <tr>\n",
       "      <th>0</th>\n",
       "      <td>00000b722001882066dff9d2da8a775658053ea0</td>\n",
       "      <td>1</td>\n",
       "    </tr>\n",
       "    <tr>\n",
       "      <th>1</th>\n",
       "      <td>00001638d6189236866af9bbf309ae6c2347ffdc</td>\n",
       "      <td>1</td>\n",
       "    </tr>\n",
       "    <tr>\n",
       "      <th>2</th>\n",
       "      <td>0000175652312d12576d9e6b84f600caa24c4715</td>\n",
       "      <td>1</td>\n",
       "    </tr>\n",
       "    <tr>\n",
       "      <th>3</th>\n",
       "      <td>00001cf0dce3fb22b0df0f3a1d9cd21e38385372</td>\n",
       "      <td>8</td>\n",
       "    </tr>\n",
       "    <tr>\n",
       "      <th>4</th>\n",
       "      <td>0000267bde1b3a70ea75cf2b2d216cb828e3202b</td>\n",
       "      <td>9</td>\n",
       "    </tr>\n",
       "  </tbody>\n",
       "</table>\n",
       "</div>"
      ],
      "text/plain": [
       "                                    user_id  n_tracks_played\n",
       "0  00000b722001882066dff9d2da8a775658053ea0                1\n",
       "1  00001638d6189236866af9bbf309ae6c2347ffdc                1\n",
       "2  0000175652312d12576d9e6b84f600caa24c4715                1\n",
       "3  00001cf0dce3fb22b0df0f3a1d9cd21e38385372                8\n",
       "4  0000267bde1b3a70ea75cf2b2d216cb828e3202b                9"
      ]
     },
     "execution_count": 158,
     "metadata": {},
     "output_type": "execute_result"
    }
   ],
   "source": [
    "# number of tracks played by each user\n",
    "df_user_stat = df_user.groupby('user_id', as_index=False)['track_id'].count()\\\n",
    "                        .rename(columns={'track_id': 'n_tracks_played'})\n",
    "\n",
    "df_user_stat.head()"
   ]
  },
  {
   "cell_type": "code",
   "execution_count": 159,
   "id": "b3586a07",
   "metadata": {},
   "outputs": [
    {
     "data": {
      "text/html": [
       "<div>\n",
       "<style scoped>\n",
       "    .dataframe tbody tr th:only-of-type {\n",
       "        vertical-align: middle;\n",
       "    }\n",
       "\n",
       "    .dataframe tbody tr th {\n",
       "        vertical-align: top;\n",
       "    }\n",
       "\n",
       "    .dataframe thead th {\n",
       "        text-align: right;\n",
       "    }\n",
       "</style>\n",
       "<table border=\"1\" class=\"dataframe\">\n",
       "  <thead>\n",
       "    <tr style=\"text-align: right;\">\n",
       "      <th></th>\n",
       "      <th>user_id</th>\n",
       "      <th>playcount</th>\n",
       "    </tr>\n",
       "  </thead>\n",
       "  <tbody>\n",
       "    <tr>\n",
       "      <th>0</th>\n",
       "      <td>00000b722001882066dff9d2da8a775658053ea0</td>\n",
       "      <td>1</td>\n",
       "    </tr>\n",
       "    <tr>\n",
       "      <th>1</th>\n",
       "      <td>00001638d6189236866af9bbf309ae6c2347ffdc</td>\n",
       "      <td>1</td>\n",
       "    </tr>\n",
       "    <tr>\n",
       "      <th>2</th>\n",
       "      <td>0000175652312d12576d9e6b84f600caa24c4715</td>\n",
       "      <td>1</td>\n",
       "    </tr>\n",
       "    <tr>\n",
       "      <th>3</th>\n",
       "      <td>00001cf0dce3fb22b0df0f3a1d9cd21e38385372</td>\n",
       "      <td>13</td>\n",
       "    </tr>\n",
       "    <tr>\n",
       "      <th>4</th>\n",
       "      <td>0000267bde1b3a70ea75cf2b2d216cb828e3202b</td>\n",
       "      <td>9</td>\n",
       "    </tr>\n",
       "  </tbody>\n",
       "</table>\n",
       "</div>"
      ],
      "text/plain": [
       "                                    user_id  playcount\n",
       "0  00000b722001882066dff9d2da8a775658053ea0          1\n",
       "1  00001638d6189236866af9bbf309ae6c2347ffdc          1\n",
       "2  0000175652312d12576d9e6b84f600caa24c4715          1\n",
       "3  00001cf0dce3fb22b0df0f3a1d9cd21e38385372         13\n",
       "4  0000267bde1b3a70ea75cf2b2d216cb828e3202b          9"
      ]
     },
     "execution_count": 159,
     "metadata": {},
     "output_type": "execute_result"
    }
   ],
   "source": [
    "# number of total playcounts by each user\n",
    "df_user_stat2 = df_user.groupby('user_id', as_index=False)['playcount'].sum()\n",
    "\n",
    "df_user_stat2.head()"
   ]
  },
  {
   "cell_type": "code",
   "execution_count": 160,
   "id": "a564dde6",
   "metadata": {},
   "outputs": [
    {
     "data": {
      "text/html": [
       "<div>\n",
       "<style scoped>\n",
       "    .dataframe tbody tr th:only-of-type {\n",
       "        vertical-align: middle;\n",
       "    }\n",
       "\n",
       "    .dataframe tbody tr th {\n",
       "        vertical-align: top;\n",
       "    }\n",
       "\n",
       "    .dataframe thead th {\n",
       "        text-align: right;\n",
       "    }\n",
       "</style>\n",
       "<table border=\"1\" class=\"dataframe\">\n",
       "  <thead>\n",
       "    <tr style=\"text-align: right;\">\n",
       "      <th></th>\n",
       "      <th>user_id</th>\n",
       "      <th>n_tracks_played</th>\n",
       "      <th>playcount</th>\n",
       "      <th>avg_playcounts_per_track</th>\n",
       "    </tr>\n",
       "  </thead>\n",
       "  <tbody>\n",
       "    <tr>\n",
       "      <th>0</th>\n",
       "      <td>00000b722001882066dff9d2da8a775658053ea0</td>\n",
       "      <td>1</td>\n",
       "      <td>1</td>\n",
       "      <td>1.0</td>\n",
       "    </tr>\n",
       "    <tr>\n",
       "      <th>1</th>\n",
       "      <td>00001638d6189236866af9bbf309ae6c2347ffdc</td>\n",
       "      <td>1</td>\n",
       "      <td>1</td>\n",
       "      <td>1.0</td>\n",
       "    </tr>\n",
       "    <tr>\n",
       "      <th>2</th>\n",
       "      <td>0000175652312d12576d9e6b84f600caa24c4715</td>\n",
       "      <td>1</td>\n",
       "      <td>1</td>\n",
       "      <td>1.0</td>\n",
       "    </tr>\n",
       "    <tr>\n",
       "      <th>3</th>\n",
       "      <td>00001cf0dce3fb22b0df0f3a1d9cd21e38385372</td>\n",
       "      <td>8</td>\n",
       "      <td>13</td>\n",
       "      <td>1.6</td>\n",
       "    </tr>\n",
       "    <tr>\n",
       "      <th>4</th>\n",
       "      <td>0000267bde1b3a70ea75cf2b2d216cb828e3202b</td>\n",
       "      <td>9</td>\n",
       "      <td>9</td>\n",
       "      <td>1.0</td>\n",
       "    </tr>\n",
       "  </tbody>\n",
       "</table>\n",
       "</div>"
      ],
      "text/plain": [
       "                                    user_id  n_tracks_played  playcount  \\\n",
       "0  00000b722001882066dff9d2da8a775658053ea0                1          1   \n",
       "1  00001638d6189236866af9bbf309ae6c2347ffdc                1          1   \n",
       "2  0000175652312d12576d9e6b84f600caa24c4715                1          1   \n",
       "3  00001cf0dce3fb22b0df0f3a1d9cd21e38385372                8         13   \n",
       "4  0000267bde1b3a70ea75cf2b2d216cb828e3202b                9          9   \n",
       "\n",
       "   avg_playcounts_per_track  \n",
       "0                       1.0  \n",
       "1                       1.0  \n",
       "2                       1.0  \n",
       "3                       1.6  \n",
       "4                       1.0  "
      ]
     },
     "execution_count": 160,
     "metadata": {},
     "output_type": "execute_result"
    }
   ],
   "source": [
    "# getting average playcounts per track for each user\n",
    "# putting the three metrics into one dataframe\n",
    "df_user_stat['playcount'] = df_user_stat2['playcount'].copy()\n",
    "df_user_stat['avg_playcounts_per_track'] = (df_user_stat['playcount']/df_user_stat['n_tracks_played']).round(1).copy()\n",
    "df_user_stat.head()"
   ]
  },
  {
   "cell_type": "markdown",
   "id": "9cd16115",
   "metadata": {},
   "source": [
    "## Number of tracks played by users <a name=\"NumTrackUser\"></a>"
   ]
  },
  {
   "cell_type": "code",
   "execution_count": 129,
   "id": "448706d7",
   "metadata": {},
   "outputs": [
    {
     "data": {
      "text/plain": [
       "count    962037.000000\n",
       "mean         10.094519\n",
       "std          14.555314\n",
       "min           1.000000\n",
       "25%           3.000000\n",
       "50%           5.000000\n",
       "75%          11.000000\n",
       "max         784.000000\n",
       "Name: n_tracks_played, dtype: float64"
      ]
     },
     "execution_count": 129,
     "metadata": {},
     "output_type": "execute_result"
    }
   ],
   "source": [
    "df_user_stat['n_tracks_played'].describe()"
   ]
  },
  {
   "cell_type": "code",
   "execution_count": 190,
   "id": "fed91eec",
   "metadata": {},
   "outputs": [
    {
     "data": {
      "image/png": "[encoded data removed]",
      "text/plain": [
       "<Figure size 1000x500 with 1 Axes>"
      ]
     },
     "metadata": {},
     "output_type": "display_data"
    }
   ],
   "source": [
    "plt.figure(figsize=(10,5))\n",
    "df_user_stat['n_tracks_played'].plot(kind='hist', bins=100)\n",
    "plt.xlabel('Number of tracks played')\n",
    "plt.ylabel('Count')\n",
    "plt.title('Distribution of number of tracks played by users', fontsize=14, y=1.01)\n",
    "plt.show()"
   ]
  },
  {
   "cell_type": "markdown",
   "id": "9126351d",
   "metadata": {},
   "source": [
    "## Playcounts by users <a name=\"CountUser\"></a>"
   ]
  },
  {
   "cell_type": "code",
   "execution_count": 133,
   "id": "a843282e",
   "metadata": {},
   "outputs": [
    {
     "data": {
      "text/plain": [
       "count    962037.000000\n",
       "mean         26.558139\n",
       "std          44.130748\n",
       "min           1.000000\n",
       "25%           5.000000\n",
       "50%          12.000000\n",
       "75%          30.000000\n",
       "max        2953.000000\n",
       "Name: playcount, dtype: float64"
      ]
     },
     "execution_count": 133,
     "metadata": {},
     "output_type": "execute_result"
    }
   ],
   "source": [
    "df_user_stat['playcount'].describe()"
   ]
  },
  {
   "cell_type": "code",
   "execution_count": 191,
   "id": "a84638ba",
   "metadata": {},
   "outputs": [
    {
     "data": {
      "image/png": "[encoded data removed]",
      "text/plain": [
       "<Figure size 1000x500 with 1 Axes>"
      ]
     },
     "metadata": {},
     "output_type": "display_data"
    }
   ],
   "source": [
    "plt.figure(figsize=(10,5))\n",
    "df_user_stat['playcount'].plot(kind='hist', bins=100)\n",
    "plt.xlabel('Number of playcounts')\n",
    "plt.ylabel('Count')\n",
    "plt.title('Distribution of number of playcounts by users', fontsize=14, y=1.01)\n",
    "plt.show()"
   ]
  },
  {
   "cell_type": "markdown",
   "id": "c3baf192",
   "metadata": {},
   "source": [
    "## Average playcounts per track by users <a name=\"AvgCountUser\"></a>"
   ]
  },
  {
   "cell_type": "code",
   "execution_count": 151,
   "id": "0f7f7881",
   "metadata": {},
   "outputs": [
    {
     "data": {
      "text/plain": [
       "count    962037.000000\n",
       "mean          2.993586\n",
       "std           4.784931\n",
       "min           1.000000\n",
       "25%           1.100000\n",
       "50%           1.800000\n",
       "75%           3.100000\n",
       "max         920.500000\n",
       "Name: avg_playcounts_per_track, dtype: float64"
      ]
     },
     "execution_count": 151,
     "metadata": {},
     "output_type": "execute_result"
    }
   ],
   "source": [
    "df_user_stat['avg_playcounts_per_track'].describe()"
   ]
  },
  {
   "cell_type": "code",
   "execution_count": 192,
   "id": "1fb375a9",
   "metadata": {},
   "outputs": [
    {
     "data": {
      "image/png": "[encoded data removed]",
      "text/plain": [
       "<Figure size 1000x500 with 1 Axes>"
      ]
     },
     "metadata": {},
     "output_type": "display_data"
    }
   ],
   "source": [
    "plt.figure(figsize=(10,5))\n",
    "df_user_stat['avg_playcounts_per_track'].plot(kind='hist', bins=500)\n",
    "plt.xlabel('Average playcounts per track')\n",
    "plt.ylabel('Count')\n",
    "plt.title('Distribution of average playcounts per track by users', fontsize=14, y=1.01)\n",
    "plt.show()"
   ]
  },
  {
   "cell_type": "markdown",
   "id": "73ed1065",
   "metadata": {},
   "source": [
    "From the above data and charts, we know that at least 75% of the users:\n",
    "\n",
    "- listened to not more than 11 tracks\n",
    "- had not more than 30 playcounts in total\n",
    "- had playcounts per track not more than 3.1\n",
    "\n",
    "We do not have information about the time period the above data accounts for, but even if it accounts for only 30 days' user behaviour, \"30 playcounts\" means that on average 1 playcount per day. It is quite low given people's extensive interactions with social media nowadays. \"11 tracks\" can also be considered a low number given the large amount of tracks available in the database.\n",
    "\n",
    "This shows that most users in the dataset were not very engaged with the platforms, and did not interact with many tracks in the database. Certainly, the user engagement part is an area worth looking deeper into for more improvement for the music streaming platforms."
   ]
  },
  {
   "cell_type": "markdown",
   "id": "9c8b496e",
   "metadata": {},
   "source": [
    "---"
   ]
  },
  {
   "cell_type": "markdown",
   "id": "eeb5d4f8",
   "metadata": {},
   "source": [
    "# Analyzing the track exposure <a name=\"track_exp\"></a>\n",
    "\n",
    "Here we will use three metrics:\n",
    "- `n_users_listened`: number of users who have listened for each track\n",
    "- `playcount`: number of playcounts gained for each track\n",
    "- `avg_playcounts_per_user`: average playcounts per user for each track"
   ]
  },
  {
   "cell_type": "code",
   "execution_count": 161,
   "id": "70d145f1",
   "metadata": {},
   "outputs": [
    {
     "data": {
      "text/html": [
       "<div>\n",
       "<style scoped>\n",
       "    .dataframe tbody tr th:only-of-type {\n",
       "        vertical-align: middle;\n",
       "    }\n",
       "\n",
       "    .dataframe tbody tr th {\n",
       "        vertical-align: top;\n",
       "    }\n",
       "\n",
       "    .dataframe thead th {\n",
       "        text-align: right;\n",
       "    }\n",
       "</style>\n",
       "<table border=\"1\" class=\"dataframe\">\n",
       "  <thead>\n",
       "    <tr style=\"text-align: right;\">\n",
       "      <th></th>\n",
       "      <th>track_id</th>\n",
       "      <th>n_users_listened</th>\n",
       "    </tr>\n",
       "  </thead>\n",
       "  <tbody>\n",
       "    <tr>\n",
       "      <th>0</th>\n",
       "      <td>TRAAAED128E0783FAB</td>\n",
       "      <td>161</td>\n",
       "    </tr>\n",
       "    <tr>\n",
       "      <th>1</th>\n",
       "      <td>TRAAAHD128F42635A5</td>\n",
       "      <td>2</td>\n",
       "    </tr>\n",
       "    <tr>\n",
       "      <th>2</th>\n",
       "      <td>TRAAAQO12903CD8E1C</td>\n",
       "      <td>1</td>\n",
       "    </tr>\n",
       "    <tr>\n",
       "      <th>3</th>\n",
       "      <td>TRAABJS128F9325C99</td>\n",
       "      <td>945</td>\n",
       "    </tr>\n",
       "    <tr>\n",
       "      <th>4</th>\n",
       "      <td>TRAABXA128F9326351</td>\n",
       "      <td>18</td>\n",
       "    </tr>\n",
       "  </tbody>\n",
       "</table>\n",
       "</div>"
      ],
      "text/plain": [
       "             track_id  n_users_listened\n",
       "0  TRAAAED128E0783FAB               161\n",
       "1  TRAAAHD128F42635A5                 2\n",
       "2  TRAAAQO12903CD8E1C                 1\n",
       "3  TRAABJS128F9325C99               945\n",
       "4  TRAABXA128F9326351                18"
      ]
     },
     "execution_count": 161,
     "metadata": {},
     "output_type": "execute_result"
    }
   ],
   "source": [
    "# number of users who have listened for each track\n",
    "df_track_stat = df_user.groupby('track_id', as_index=False)['user_id'].count()\\\n",
    "                    .rename(columns={'user_id': 'n_users_listened'})\n",
    "\n",
    "df_track_stat.head()"
   ]
  },
  {
   "cell_type": "code",
   "execution_count": 162,
   "id": "4e044934",
   "metadata": {},
   "outputs": [
    {
     "data": {
      "text/html": [
       "<div>\n",
       "<style scoped>\n",
       "    .dataframe tbody tr th:only-of-type {\n",
       "        vertical-align: middle;\n",
       "    }\n",
       "\n",
       "    .dataframe tbody tr th {\n",
       "        vertical-align: top;\n",
       "    }\n",
       "\n",
       "    .dataframe thead th {\n",
       "        text-align: right;\n",
       "    }\n",
       "</style>\n",
       "<table border=\"1\" class=\"dataframe\">\n",
       "  <thead>\n",
       "    <tr style=\"text-align: right;\">\n",
       "      <th></th>\n",
       "      <th>track_id</th>\n",
       "      <th>playcount</th>\n",
       "    </tr>\n",
       "  </thead>\n",
       "  <tbody>\n",
       "    <tr>\n",
       "      <th>0</th>\n",
       "      <td>TRAAAED128E0783FAB</td>\n",
       "      <td>315</td>\n",
       "    </tr>\n",
       "    <tr>\n",
       "      <th>1</th>\n",
       "      <td>TRAAAHD128F42635A5</td>\n",
       "      <td>2</td>\n",
       "    </tr>\n",
       "    <tr>\n",
       "      <th>2</th>\n",
       "      <td>TRAAAQO12903CD8E1C</td>\n",
       "      <td>1</td>\n",
       "    </tr>\n",
       "    <tr>\n",
       "      <th>3</th>\n",
       "      <td>TRAABJS128F9325C99</td>\n",
       "      <td>1831</td>\n",
       "    </tr>\n",
       "    <tr>\n",
       "      <th>4</th>\n",
       "      <td>TRAABXA128F9326351</td>\n",
       "      <td>37</td>\n",
       "    </tr>\n",
       "  </tbody>\n",
       "</table>\n",
       "</div>"
      ],
      "text/plain": [
       "             track_id  playcount\n",
       "0  TRAAAED128E0783FAB        315\n",
       "1  TRAAAHD128F42635A5          2\n",
       "2  TRAAAQO12903CD8E1C          1\n",
       "3  TRAABJS128F9325C99       1831\n",
       "4  TRAABXA128F9326351         37"
      ]
     },
     "execution_count": 162,
     "metadata": {},
     "output_type": "execute_result"
    }
   ],
   "source": [
    "# number of playcounts gained for each track\n",
    "df_track_stat2 = df_user.groupby('track_id', as_index=False)['playcount'].sum()\n",
    "\n",
    "df_track_stat2.head()"
   ]
  },
  {
   "cell_type": "code",
   "execution_count": 163,
   "id": "3139b993",
   "metadata": {},
   "outputs": [
    {
     "data": {
      "text/html": [
       "<div>\n",
       "<style scoped>\n",
       "    .dataframe tbody tr th:only-of-type {\n",
       "        vertical-align: middle;\n",
       "    }\n",
       "\n",
       "    .dataframe tbody tr th {\n",
       "        vertical-align: top;\n",
       "    }\n",
       "\n",
       "    .dataframe thead th {\n",
       "        text-align: right;\n",
       "    }\n",
       "</style>\n",
       "<table border=\"1\" class=\"dataframe\">\n",
       "  <thead>\n",
       "    <tr style=\"text-align: right;\">\n",
       "      <th></th>\n",
       "      <th>track_id</th>\n",
       "      <th>n_users_listened</th>\n",
       "      <th>playcount</th>\n",
       "      <th>avg_playcounts_per_user</th>\n",
       "    </tr>\n",
       "  </thead>\n",
       "  <tbody>\n",
       "    <tr>\n",
       "      <th>0</th>\n",
       "      <td>TRAAAED128E0783FAB</td>\n",
       "      <td>161</td>\n",
       "      <td>315</td>\n",
       "      <td>2.0</td>\n",
       "    </tr>\n",
       "    <tr>\n",
       "      <th>1</th>\n",
       "      <td>TRAAAHD128F42635A5</td>\n",
       "      <td>2</td>\n",
       "      <td>2</td>\n",
       "      <td>1.0</td>\n",
       "    </tr>\n",
       "    <tr>\n",
       "      <th>2</th>\n",
       "      <td>TRAAAQO12903CD8E1C</td>\n",
       "      <td>1</td>\n",
       "      <td>1</td>\n",
       "      <td>1.0</td>\n",
       "    </tr>\n",
       "    <tr>\n",
       "      <th>3</th>\n",
       "      <td>TRAABJS128F9325C99</td>\n",
       "      <td>945</td>\n",
       "      <td>1831</td>\n",
       "      <td>1.9</td>\n",
       "    </tr>\n",
       "    <tr>\n",
       "      <th>4</th>\n",
       "      <td>TRAABXA128F9326351</td>\n",
       "      <td>18</td>\n",
       "      <td>37</td>\n",
       "      <td>2.1</td>\n",
       "    </tr>\n",
       "  </tbody>\n",
       "</table>\n",
       "</div>"
      ],
      "text/plain": [
       "             track_id  n_users_listened  playcount  avg_playcounts_per_user\n",
       "0  TRAAAED128E0783FAB               161        315                      2.0\n",
       "1  TRAAAHD128F42635A5                 2          2                      1.0\n",
       "2  TRAAAQO12903CD8E1C                 1          1                      1.0\n",
       "3  TRAABJS128F9325C99               945       1831                      1.9\n",
       "4  TRAABXA128F9326351                18         37                      2.1"
      ]
     },
     "execution_count": 163,
     "metadata": {},
     "output_type": "execute_result"
    }
   ],
   "source": [
    "# getting the average playcounts per user for each track\n",
    "# putting the three metrics into one dataframe\n",
    "df_track_stat['playcount'] = df_track_stat2['playcount'].copy()\n",
    "df_track_stat['avg_playcounts_per_user'] = (df_track_stat['playcount']/df_track_stat['n_users_listened']).round(1)\n",
    "df_track_stat.head()"
   ]
  },
  {
   "cell_type": "markdown",
   "id": "39458d59",
   "metadata": {},
   "source": [
    "## Number of users who have listened for tracks <a name=\"NumUserTrack\"></a>"
   ]
  },
  {
   "cell_type": "code",
   "execution_count": 52,
   "id": "968dd140",
   "metadata": {},
   "outputs": [
    {
     "data": {
      "text/plain": [
       "count    30459.000000\n",
       "mean       318.831905\n",
       "std       1105.034895\n",
       "min          1.000000\n",
       "25%         13.000000\n",
       "50%         57.000000\n",
       "75%        255.000000\n",
       "max      80656.000000\n",
       "Name: n_users_listened, dtype: float64"
      ]
     },
     "execution_count": 52,
     "metadata": {},
     "output_type": "execute_result"
    }
   ],
   "source": [
    "df_track_stat['n_users_listened'].describe()"
   ]
  },
  {
   "cell_type": "code",
   "execution_count": 193,
   "id": "18543fec",
   "metadata": {},
   "outputs": [
    {
     "data": {
      "image/png": "[encoded data removed]",
      "text/plain": [
       "<Figure size 1000x500 with 1 Axes>"
      ]
     },
     "metadata": {},
     "output_type": "display_data"
    }
   ],
   "source": [
    "plt.figure(figsize=(10,5))\n",
    "df_track_stat['n_users_listened'].plot(kind='hist', bins=100)\n",
    "plt.xlabel('Number of users who have listened')\n",
    "plt.ylabel('Count')\n",
    "plt.title('Distribution of number of users who have listened', fontsize=14, y=1.01)\n",
    "plt.show()"
   ]
  },
  {
   "cell_type": "markdown",
   "id": "0d8060a4",
   "metadata": {},
   "source": [
    "## Playcounts for tracks <a name=\"CountTrack\"></a>"
   ]
  },
  {
   "cell_type": "code",
   "execution_count": 154,
   "id": "c1fb20ba",
   "metadata": {},
   "outputs": [
    {
     "data": {
      "text/plain": [
       "count     30459.000000\n",
       "mean        838.829640\n",
       "std        4220.627823\n",
       "min           1.000000\n",
       "25%          28.000000\n",
       "50%         135.000000\n",
       "75%         592.000000\n",
       "max      527893.000000\n",
       "Name: playcount, dtype: float64"
      ]
     },
     "execution_count": 154,
     "metadata": {},
     "output_type": "execute_result"
    }
   ],
   "source": [
    "df_track_stat['playcount'].describe()"
   ]
  },
  {
   "cell_type": "code",
   "execution_count": 194,
   "id": "bc45c450",
   "metadata": {},
   "outputs": [
    {
     "data": {
      "image/png": "[encoded data removed]",
      "text/plain": [
       "<Figure size 1000x500 with 1 Axes>"
      ]
     },
     "metadata": {},
     "output_type": "display_data"
    }
   ],
   "source": [
    "plt.figure(figsize=(10,5))\n",
    "df_track_stat['playcount'].plot(kind='hist', bins=100)\n",
    "plt.xlabel('Playcounts')\n",
    "plt.ylabel('Count')\n",
    "plt.title('Distribution of playcounts gained for tracks', fontsize=14, y=1.01)\n",
    "plt.show()"
   ]
  },
  {
   "cell_type": "markdown",
   "id": "75273307",
   "metadata": {},
   "source": [
    "## Zooming in to the top 10% <a name=\"top10\"></a>"
   ]
  },
  {
   "cell_type": "code",
   "execution_count": 206,
   "id": "35a19387",
   "metadata": {},
   "outputs": [
    {
     "data": {
      "text/html": [
       "<div>\n",
       "<style scoped>\n",
       "    .dataframe tbody tr th:only-of-type {\n",
       "        vertical-align: middle;\n",
       "    }\n",
       "\n",
       "    .dataframe tbody tr th {\n",
       "        vertical-align: top;\n",
       "    }\n",
       "\n",
       "    .dataframe thead th {\n",
       "        text-align: right;\n",
       "    }\n",
       "</style>\n",
       "<table border=\"1\" class=\"dataframe\">\n",
       "  <thead>\n",
       "    <tr style=\"text-align: right;\">\n",
       "      <th></th>\n",
       "      <th>track_id</th>\n",
       "      <th>n_users_listened</th>\n",
       "      <th>playcount</th>\n",
       "      <th>avg_playcounts_per_user</th>\n",
       "    </tr>\n",
       "  </thead>\n",
       "  <tbody>\n",
       "    <tr>\n",
       "      <th>0</th>\n",
       "      <td>TRONYHY128F92C9D11</td>\n",
       "      <td>80656</td>\n",
       "      <td>527893</td>\n",
       "      <td>6.5</td>\n",
       "    </tr>\n",
       "    <tr>\n",
       "      <th>1</th>\n",
       "      <td>TRUFTBY128F93450B8</td>\n",
       "      <td>39529</td>\n",
       "      <td>111615</td>\n",
       "      <td>2.8</td>\n",
       "    </tr>\n",
       "    <tr>\n",
       "      <th>2</th>\n",
       "      <td>TRZNAHL128F9327D5A</td>\n",
       "      <td>24592</td>\n",
       "      <td>111596</td>\n",
       "      <td>4.5</td>\n",
       "    </tr>\n",
       "    <tr>\n",
       "      <th>3</th>\n",
       "      <td>TRCPXID128F92D5D3C</td>\n",
       "      <td>30057</td>\n",
       "      <td>91461</td>\n",
       "      <td>3.0</td>\n",
       "    </tr>\n",
       "    <tr>\n",
       "      <th>4</th>\n",
       "      <td>TRPGPDK12903CCC651</td>\n",
       "      <td>27276</td>\n",
       "      <td>91448</td>\n",
       "      <td>3.4</td>\n",
       "    </tr>\n",
       "    <tr>\n",
       "      <th>...</th>\n",
       "      <td>...</td>\n",
       "      <td>...</td>\n",
       "      <td>...</td>\n",
       "      <td>...</td>\n",
       "    </tr>\n",
       "    <tr>\n",
       "      <th>3040</th>\n",
       "      <td>TRQNEFB128EF356B35</td>\n",
       "      <td>771</td>\n",
       "      <td>1820</td>\n",
       "      <td>2.4</td>\n",
       "    </tr>\n",
       "    <tr>\n",
       "      <th>3041</th>\n",
       "      <td>TRNAMFY128E0781A95</td>\n",
       "      <td>836</td>\n",
       "      <td>1819</td>\n",
       "      <td>2.2</td>\n",
       "    </tr>\n",
       "    <tr>\n",
       "      <th>3042</th>\n",
       "      <td>TRPLPIN12903CE9E20</td>\n",
       "      <td>603</td>\n",
       "      <td>1819</td>\n",
       "      <td>3.0</td>\n",
       "    </tr>\n",
       "    <tr>\n",
       "      <th>3043</th>\n",
       "      <td>TRPANMJ128F425BFB7</td>\n",
       "      <td>800</td>\n",
       "      <td>1819</td>\n",
       "      <td>2.3</td>\n",
       "    </tr>\n",
       "    <tr>\n",
       "      <th>3044</th>\n",
       "      <td>TRCUCJV12903CEA641</td>\n",
       "      <td>618</td>\n",
       "      <td>1819</td>\n",
       "      <td>2.9</td>\n",
       "    </tr>\n",
       "  </tbody>\n",
       "</table>\n",
       "<p>3045 rows × 4 columns</p>\n",
       "</div>"
      ],
      "text/plain": [
       "                track_id  n_users_listened  playcount  avg_playcounts_per_user\n",
       "0     TRONYHY128F92C9D11             80656     527893                      6.5\n",
       "1     TRUFTBY128F93450B8             39529     111615                      2.8\n",
       "2     TRZNAHL128F9327D5A             24592     111596                      4.5\n",
       "3     TRCPXID128F92D5D3C             30057      91461                      3.0\n",
       "4     TRPGPDK12903CCC651             27276      91448                      3.4\n",
       "...                  ...               ...        ...                      ...\n",
       "3040  TRQNEFB128EF356B35               771       1820                      2.4\n",
       "3041  TRNAMFY128E0781A95               836       1819                      2.2\n",
       "3042  TRPLPIN12903CE9E20               603       1819                      3.0\n",
       "3043  TRPANMJ128F425BFB7               800       1819                      2.3\n",
       "3044  TRCUCJV12903CEA641               618       1819                      2.9\n",
       "\n",
       "[3045 rows x 4 columns]"
      ]
     },
     "execution_count": 206,
     "metadata": {},
     "output_type": "execute_result"
    }
   ],
   "source": [
    "# looking into the list of the top 25% tracks by playcounts\n",
    "percentile_90 = np.percentile(df_track_stat['playcount'], 90)\n",
    "\n",
    "df_track_top10p = df_track_stat[df_track_stat['playcount'] > percentile_90]\\\n",
    "                            .sort_values(by='playcount', ascending=False)\\\n",
    "                            .reset_index(drop=True)\n",
    "\n",
    "df_track_top10p"
   ]
  },
  {
   "cell_type": "code",
   "execution_count": 207,
   "id": "f8c4ab68",
   "metadata": {},
   "outputs": [
    {
     "name": "stdout",
     "output_type": "stream",
     "text": [
      "The top 10% of tracks by playcounts got 69.67% of the total playcounts\n"
     ]
    }
   ],
   "source": [
    "print(f\"The top 10% of tracks by playcounts got {df_track_top10p['playcount'].sum()*100/total_playcount:.2f}% of the total playcounts\")"
   ]
  },
  {
   "cell_type": "markdown",
   "id": "68740803",
   "metadata": {},
   "source": [
    "## Average playcounts per user for tracks <a name=\"AvgCountTrack\"></a>"
   ]
  },
  {
   "cell_type": "code",
   "execution_count": 164,
   "id": "6a05cf6d",
   "metadata": {},
   "outputs": [
    {
     "data": {
      "text/plain": [
       "count    30459.000000\n",
       "mean         2.443041\n",
       "std          1.482293\n",
       "min          1.000000\n",
       "25%          1.700000\n",
       "50%          2.200000\n",
       "75%          2.800000\n",
       "max         51.000000\n",
       "Name: avg_playcounts_per_user, dtype: float64"
      ]
     },
     "execution_count": 164,
     "metadata": {},
     "output_type": "execute_result"
    }
   ],
   "source": [
    "df_track_stat['avg_playcounts_per_user'].describe()"
   ]
  },
  {
   "cell_type": "code",
   "execution_count": 195,
   "id": "97ddcc89",
   "metadata": {},
   "outputs": [
    {
     "data": {
      "image/png": "[encoded data removed]",
      "text/plain": [
       "<Figure size 1000x500 with 1 Axes>"
      ]
     },
     "metadata": {},
     "output_type": "display_data"
    }
   ],
   "source": [
    "plt.figure(figsize=(10,5))\n",
    "df_track_stat['avg_playcounts_per_user'].plot(kind='hist', bins=100)\n",
    "plt.xlabel('Average playcounts per user')\n",
    "plt.ylabel('Count')\n",
    "plt.title('Distribution of average playcounts per user for tracks', fontsize=14, y=1.01)\n",
    "plt.show()"
   ]
  },
  {
   "cell_type": "markdown",
   "id": "ff39cc31",
   "metadata": {},
   "source": [
    "From the above data and charts, we can easily see that 75% of the tracks:\n",
    "\n",
    "- have not more than 255 users (out of 962,037 total users) listened to\n",
    "- have not more than 592 playcounts\n",
    "- have not more than 2.9 playcounts per user\n",
    "\n",
    "The top 10% of tracks by playcounts got roughly 70% of all the playcounts, meaning that the remaining 90% of tracks share the other 30% of the total playcounts.\n",
    "\n",
    "Most tracks do not have much exposure (measured by playcounts here) compared to the total of the platforms.\n",
    "\n",
    "This is a pattern commonly seen in a long-tail market."
   ]
  },
  {
   "cell_type": "markdown",
   "id": "1fa989a9",
   "metadata": {},
   "source": [
    "---"
   ]
  },
  {
   "cell_type": "markdown",
   "id": "00d4177d",
   "metadata": {},
   "source": [
    "# Notebook Summary\n",
    "\n",
    "The above statistics and EDA show that there really is low engagement of users with the platforms, and the platforms might consider improving the user engagement rates, which would be beneficial to the platforms themselves.\n",
    "\n",
    "On the other hand, tracks (as a proxy of artists) in the long-tail market have low exposure on the platforms, shown by the statistics and EDA above. It might be natural to always have a long-tail curve by ranking in search engines or recommendation algorithms, and the niche artists, independent artists and new artists in the long-tail might need to pay more effort on their content optimization.\n",
    "\n",
    "However, streaming platforms could also help improve their exposure by creating a new way of recommendations for those artists. If we could find potential fans from the users for the artists in the long-tail market by the power of recommender system, then this might actually benefit all the three entities - users, artists and the platforms.\n",
    "\n",
    "The users might have more variety of their listening experience, which could be matched by the variety provided by the artists in the long-tail market, and might then be more engaged in the platform. The artists in the long-tail market might also be able to find potential listeners that would be interested in their music, and this could also boost their usage of the platforms. Finally, all these potential effects could also benefit the platforms by boosting the overall user engagement on both listeners and artists side and hence the value of the platforms.\n",
    "\n",
    "Regarding the above views, the recommendation approach in this project, which will be demonstrated in Notebook 05, attempts to partly solve the afore-mentioned problem statement by matching the potential demand of the listeners' interests with the abundant supply of music and variety from the artists in the long-tail market."
   ]
  }
 ],
 "metadata": {
  "kernelspec": {
   "display_name": "capstone",
   "language": "python",
   "name": "capstone"
  },
  "language_info": {
   "codemirror_mode": {
    "name": "ipython",
    "version": 3
   },
   "file_extension": ".py",
   "mimetype": "text/x-python",
   "name": "python",
   "nbconvert_exporter": "python",
   "pygments_lexer": "ipython3",
   "version": "3.8.17"
  }
 },
 "nbformat": 4,
 "nbformat_minor": 5
}
